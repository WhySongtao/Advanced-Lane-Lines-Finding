{
 "cells": [
  {
   "cell_type": "code",
   "execution_count": null,
   "metadata": {},
   "outputs": [],
   "source": [
    "import numpy as np\n",
    "import cv2\n",
    "import matplotlib.pyplot as plt\n",
    "import matplotlib.image as mpimg\n",
    "import glob\n",
    "import os\n",
    "from line_utils import Line\n",
    "from line_utils import *\n",
    "%matplotlib inline\n",
    "%load_ext autoreload\n",
    "%autoreload 2"
   ]
  },
  {
   "cell_type": "code",
   "execution_count": null,
   "metadata": {},
   "outputs": [],
   "source": [
    "#Get the img, object points for calibration\n",
    "(imgpoints, objpoints) = get_img_obj_points()\n",
    "# Read in the image\n",
    "img_path = \"camera_cal/test_image.png\"\n",
    "img_name = img_path.split(\"/\")[-1]\n",
    "img = mpimg.imread(img_path)\n",
    "# Undistort the image\n",
    "undist = undistort(img, objpoints, imgpoints)\n",
    "#Display and save the image\n",
    "f, (ax1, ax2) = plt.subplots(1, 2, figsize=(20, 10))\n",
    "ax1.imshow(img)\n",
    "ax1.set_title(\"Original\", fontsize=30)\n",
    "ax2.imshow(undist)\n",
    "ax2.set_title(\"Undistorted\", fontsize=30)\n",
    "cv2.imwrite(\"output_images/\" + \"undistorted_\" + img_name, undist)"
   ]
  },
  {
   "cell_type": "code",
   "execution_count": null,
   "metadata": {},
   "outputs": [],
   "source": [
    "#Get the img, object points for calibration\n",
    "(imgpoints, objpoints) = get_img_obj_points()"
   ]
  },
  {
   "cell_type": "code",
   "execution_count": null,
   "metadata": {},
   "outputs": [],
   "source": [
    "# Import everything needed to edit/save/watch video clips\n",
    "from moviepy.editor import VideoFileClip\n",
    "from IPython.display import HTML\n",
    "left_lines = []\n",
    "right_lines = []\n",
    "sanity_fail_count = [0]"
   ]
  },
  {
   "cell_type": "code",
   "execution_count": null,
   "metadata": {},
   "outputs": [],
   "source": [
    "def process_image(image):\n",
    "    # NOTE: The output you return should be a color image (3 channel) for processing video below\n",
    "    # TODO: put your pipeline here,\n",
    "    # you should return the final output (image where lines are drawn on lanes)\n",
    "    result = pipeline(image, objpoints, imgpoints, left_lines, right_lines, sanity_fail_count)\n",
    "    plt.imshow(result)\n",
    "    return result"
   ]
  },
  {
   "cell_type": "code",
   "execution_count": null,
   "metadata": {},
   "outputs": [],
   "source": [
    "white_output = 'project_video_results.mp4'\n",
    "## To speed up the testing process you may want to try your pipeline on a shorter subclip of the video\n",
    "## To do so add .subclip(start_second,end_second) to the end of the line below\n",
    "## Where start_second and end_second are integer values representing the start and end of the subclip\n",
    "## You may also uncomment the following line for a subclip of the first 5 seconds\n",
    "# clip1 = VideoFileClip(\"test_videos/solidWhiteRight.mp4\").subclip(0,5)\n",
    "clip1 = VideoFileClip(\"project_video.mp4\").subclip(0,3)\n",
    "white_clip = clip1.fl_image(process_image) #NOTE: this function expects color images!!\n",
    "%time white_clip.write_videofile(white_output, audio=False)"
   ]
  },
  {
   "cell_type": "code",
   "execution_count": null,
   "metadata": {},
   "outputs": [],
   "source": [
    "HTML(\"\"\"\n",
    "<video width=\"960\" height=\"540\" controls>\n",
    "  <source src=\"{0}\">\n",
    "</video>\n",
    "\"\"\".format(white_output))"
   ]
  },
  {
   "cell_type": "code",
   "execution_count": null,
   "metadata": {},
   "outputs": [],
   "source": [
    "# %matplotlib qt\n",
    "# #Get the img, object points for calibration\n",
    "# (imgpoints, objpoints) = get_img_obj_points()\n",
    "# # Read in the image\n",
    "# img_path = \"test_images/test2.jpg\"\n",
    "# img_name = img_path.split(\"/\")[-1]\n",
    "# img = mpimg.imread(img_path)\n",
    "# ksize = 3\n",
    "# # Undistort the image\n",
    "# undist_img = undistort(img, objpoints, imgpoints)\n",
    "\n",
    "# # Calculate: x sobel, y sobel, magnitute of sobel, direction of sobel\n",
    "# gradx = abs_sobel_thresh(undist_img, orient='x', sobel_kernel=ksize, thresh=(20, 200))\n",
    "# grady = abs_sobel_thresh(undist_img, orient='y', sobel_kernel=ksize, thresh=(20, 200))\n",
    "# mag_binary = mag_thresh(undist_img, sobel_kernel=ksize, thresh=(10, 255))\n",
    "# dir_binary = dir_threshold(undist_img, sobel_kernel=ksize, thresh=(0, np.pi/2))\n",
    "# s_binary = hls_thresh(undist_img, thresh=(140, 255))\n",
    "\n",
    "# # Combined the previous results\n",
    "# combined = np.zeros_like(dir_binary)\n",
    "# combined[((gradx == 1) & (grady == 1)) | (s_binary == 1)] = 1\n",
    "\n",
    "# # Mask the image\n",
    "# imshape = combined.shape\n",
    "# vertices = np.array([[(0, imshape[0]),(0.51*imshape[1], 0.55*imshape[0]), (0.49*imshape[1], 0.55*imshape[0]), \n",
    "#                           (imshape[1], imshape[0])]], dtype=np.int32)\n",
    "# masked_img = region_of_interest(combined, vertices)\n",
    "\n",
    "# # Warp the image\n",
    "# warped = warp(masked_img)\n",
    "\n",
    "# #Sliding window\n",
    "# (out_img, left_poly, right_poly, plot_y, left_poly_para, right_poly_para, curvature) = sliding_window(warped)\n",
    "\n",
    "# # No-sliding window\n",
    "# (result, left_poly, right_poly, plot_y, left_poly_para, right_poly_para, curvature) = not_sliding_window(warped, left_poly_para, right_poly_para)\n",
    "# # Show the images\n",
    "# fig, ax = plt.subplots(3, 2, figsize=(24, 9))\n",
    "# # fig.tight_layout()\n",
    "# red = (255, 0, 0)\n",
    "# cv2.line(img, (585, 457), (700, 457), red, 3)\n",
    "# cv2.line(img, (700, 457), (1125, 719), red, 3)\n",
    "# cv2.line(img, (1125, 719), (200, 719), red, 3)\n",
    "# cv2.line(img, (200, 719), (585, 457), red, 3)\n",
    "# ax[0, 0].imshow(img)\n",
    "# ax[0, 0].set_title(\"Original\", fontsize=15)\n",
    "\n",
    "# undist_img = cv2.cvtColor(undist_img, cv2.COLOR_BGR2RGB)\n",
    "# ax[0, 1].imshow(undist_img)\n",
    "# ax[0, 1].plot(585, 457, \".\")\n",
    "# ax[0, 1].plot(700, 457, \".\")\n",
    "# ax[0, 1].plot(200, 719, \".\")\n",
    "# ax[0, 1].plot(1125, 719, \".\")\n",
    "# ax[0, 1].set_title(\"Undist_img\", fontsize=15)\n",
    "\n",
    "# combined = 255 * combined\n",
    "# ax[1, 0].imshow(combined, cmap=\"gray\")\n",
    "# ax[1, 0].set_title(\"Thresholded\", fontsize=15)\n",
    "\n",
    "# masked_img = 255 * masked_img\n",
    "# ax[1, 1].imshow(masked_img, cmap=\"gray\")\n",
    "# ax[1, 1].set_title(\"Masked\", fontsize=15)\n",
    "\n",
    "\n",
    "# scaled_warped = cv2.cvtColor(warped, cv2.COLOR_GRAY2RGB)\n",
    "# cv2.line(scaled_warped, (300, 0), (300, 719), red, 3)\n",
    "# cv2.line(scaled_warped, (960, 0), (960, 719), red, 3)\n",
    "# ax[2, 0].imshow(scaled_warped, cmap=\"gray\")\n",
    "# ax[2, 0].plot(380, 0, \".\")\n",
    "# ax[2, 0].plot(850, 0, \".\")\n",
    "# ax[2, 0].plot(380, 719, \".\")\n",
    "# ax[2, 0].plot(850, 719, \".\")\n",
    "# ax[2, 0].set_title(\"Warped\", fontsize=15)\n",
    "\n",
    "# ax[2, 1].imshow(out_img)\n",
    "# ax[2, 1].plot(left_poly, plot_y, color='yellow')\n",
    "# ax[2, 1].plot(right_poly, plot_y, color='yellow')\n",
    "# ax[2, 1].set_title(\"Sliding Window\", fontsize=15)\n",
    "\n",
    "# # ax[2, 1].imshow(result)\n",
    "# # ax[2, 1].plot(left_poly, plot_y, color='yellow')\n",
    "# # ax[2, 1].plot(right_poly, plot_y, color='yellow')\n",
    "# # ax[2, 1].set_title(\"No-Sliding Window\", fontsize=15)\n",
    "    \n",
    "# plt.subplots_adjust(left=0., right=1, top=0.9, bottom=0.)\n",
    "# cv2.imwrite(\"output_images/\" + \"undistorted_\" + img_name, undist_img)\n",
    "# cv2.imwrite(\"output_images/\" + \"thresholded_\" + img_name, combined)\n",
    "# cv2.imwrite(\"output_images/\" + \"Masked_\" + img_name, masked_img)\n",
    "# cv2.imwrite(\"output_images/\" + \"Warped_\" + img_name, warped)\n",
    "# cv2.imwrite(\"output_images/\" + \"Window_\" + img_name, out_img)"
   ]
  }
 ],
 "metadata": {
  "kernelspec": {
   "display_name": "Python [conda env:mytensorflow]",
   "language": "python",
   "name": "conda-env-mytensorflow-py"
  },
  "language_info": {
   "codemirror_mode": {
    "name": "ipython",
    "version": 3
   },
   "file_extension": ".py",
   "mimetype": "text/x-python",
   "name": "python",
   "nbconvert_exporter": "python",
   "pygments_lexer": "ipython3",
   "version": "3.5.5"
  },
  "widgets": {
   "state": {},
   "version": "1.1.2"
  }
 },
 "nbformat": 4,
 "nbformat_minor": 2
}
